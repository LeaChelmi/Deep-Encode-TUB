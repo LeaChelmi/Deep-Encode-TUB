{
 "cells": [
  {
   "cell_type": "code",
   "execution_count": 28,
   "metadata": {},
   "outputs": [],
   "source": [
    "import os\n",
    "import glob\n",
    "import pandas as pd"
   ]
  },
  {
   "cell_type": "code",
   "execution_count": 29,
   "metadata": {},
   "outputs": [],
   "source": [
    "### LOCATIONS ###\n",
    "\n",
    "abs_path='/Volumes/T7/deep_encode_dataset/DATASET_DEEP_ENCODE_2'"
   ]
  },
  {
   "cell_type": "code",
   "execution_count": 30,
   "metadata": {},
   "outputs": [],
   "source": [
    "def concat_labels(directory):\n",
    "\n",
    "    dfs = []\n",
    "\n",
    "    #iterate over vids\n",
    "    for dirname in os.listdir(directory):\n",
    "        label_loc=f'{abs_path}/{dirname}/labels'\n",
    "\n",
    "        file_pattern = f'{label_loc}/*.csv'\n",
    "        csv_files = glob.glob(file_pattern)\n",
    "\n",
    "\n",
    "        for file in csv_files:\n",
    "            df = pd.read_csv(file)\n",
    "            dfs.append(df)\n",
    "\n",
    "    combined_df = pd.concat(dfs, ignore_index=True)\n",
    "\n",
    "    \n",
    "\n",
    "    combined_df.reset_index(drop=True, inplace=True)\n",
    "\n",
    "    column_name = 'Unnamed: 0'\n",
    "    combined_df = combined_df.drop(column_name, axis=1)\n",
    "\n",
    "    combined_df.to_csv(f'{abs_path}/aggregated_labels.csv')\n",
    "\n",
    "\n",
    "\n",
    "concat_labels(abs_path)"
   ]
  }
 ],
 "metadata": {
  "kernelspec": {
   "display_name": "PyCharm (scripts)",
   "language": "python",
   "name": "pycharm-b14a2222"
  },
  "language_info": {
   "codemirror_mode": {
    "name": "ipython",
    "version": 3
   },
   "file_extension": ".py",
   "mimetype": "text/x-python",
   "name": "python",
   "nbconvert_exporter": "python",
   "pygments_lexer": "ipython3",
   "version": "3.7.3"
  },
  "orig_nbformat": 4
 },
 "nbformat": 4,
 "nbformat_minor": 2
}
