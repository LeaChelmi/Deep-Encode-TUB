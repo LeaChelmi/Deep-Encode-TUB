{
 "cells": [
  {
   "attachments": {},
   "cell_type": "markdown",
   "metadata": {},
   "source": [
    "Script to create a folder to each video in and that is named after the video"
   ]
  },
  {
   "cell_type": "code",
   "execution_count": 1,
   "metadata": {},
   "outputs": [
    {
     "name": "stdout",
     "output_type": "stream",
     "text": [
      "Moved file '720p50_mobcal_ter.y4m' to folder '720p50_mobcal_ter'.\n",
      "Moved file 'CSGO.y4m' to folder 'CSGO'.\n"
     ]
    }
   ],
   "source": [
    "import os\n",
    "import shutil\n",
    "\n",
    "def organize_files(folder_path):\n",
    "    # Get a list of all files in the specified folder\n",
    "    files = os.listdir(folder_path)\n",
    "\n",
    "    # Iterate over each file\n",
    "    for file_name in files:\n",
    "        # Construct the full path of the file\n",
    "        file_path = os.path.join(folder_path, file_name)\n",
    "\n",
    "        # Check if the file is a regular file (not a directory)\n",
    "        if os.path.isfile(file_path):\n",
    "            # Create a new folder with the same name as the file (without extension)\n",
    "            folder_name = os.path.splitext(file_name)[0]\n",
    "            new_folder_path = os.path.join(folder_path, folder_name)\n",
    "            os.makedirs(new_folder_path, exist_ok=True)\n",
    "\n",
    "            # Move the file to the new folder\n",
    "            new_file_path = os.path.join(new_folder_path, file_name)\n",
    "            shutil.move(file_path, new_file_path)\n",
    "\n",
    "            print(f\"Moved file '{file_name}' to folder '{folder_name}'.\")\n",
    "\n",
    "# Specify the folder path where the files are located\n",
    "folder_path = \"/Volumes/T7/deep_encode_dataset/DATASET_DEEP_ENCODE_2/pipeline_dataset\"\n",
    "\n",
    "# Call the function to organize the files\n",
    "organize_files(folder_path)\n"
   ]
  }
 ],
 "metadata": {
  "kernelspec": {
   "display_name": "PyCharm (scripts)",
   "language": "python",
   "name": "pycharm-b14a2222"
  },
  "language_info": {
   "codemirror_mode": {
    "name": "ipython",
    "version": 3
   },
   "file_extension": ".py",
   "mimetype": "text/x-python",
   "name": "python",
   "nbconvert_exporter": "python",
   "pygments_lexer": "ipython3",
   "version": "3.7.3"
  },
  "orig_nbformat": 4
 },
 "nbformat": 4,
 "nbformat_minor": 2
}
