{
 "cells": [
  {
   "cell_type": "code",
   "execution_count": 33,
   "metadata": {},
   "outputs": [],
   "source": [
    "import cv2\n",
    "import os\n",
    "import subprocess\n",
    "import numpy as np\n",
    "import pandas as pd\n",
    "import json"
   ]
  },
  {
   "cell_type": "code",
   "execution_count": 34,
   "metadata": {},
   "outputs": [],
   "source": [
    "def get_video_properties(video_path):\n",
    "    \n",
    "    \"\"\"\n",
    "    The function retrieves properties of a video file given its path.\n",
    "\n",
    "    Parameters:\n",
    "\n",
    "    video_path (str): The file path to the video.\n",
    "    \n",
    "    Returns:\n",
    "\n",
    "    width (int): The width of the video in pixels.\n",
    "    height (int): The height of the video in pixels.\n",
    "    fps (float): The frames per second of the video.\n",
    "    pix_fmt(str): The pixel format of the video.\n",
    "    \n",
    "    \"\"\"\n",
    "    \n",
    "    \n",
    "    # Open the video file\n",
    "    video = cv2.VideoCapture(video_path)\n",
    "\n",
    "    # Get the video width and height\n",
    "    width = int(video.get(cv2.CAP_PROP_FRAME_WIDTH))\n",
    "    height = int(video.get(cv2.CAP_PROP_FRAME_HEIGHT))\n",
    "\n",
    "    # Get the frames per second (FPS)\n",
    "    fps = video.get(cv2.CAP_PROP_FPS)\n",
    "\n",
    "    # Release the video file\n",
    "    video.release()\n",
    "    \n",
    "    ffprobe_cmd = f'ffprobe -v error -select_streams v:0 -show_entries stream=pix_fmt -of json \"{video_path}\"'\n",
    "\n",
    "    # Execute the ffprobe command\n",
    "    result = subprocess.run(ffprobe_cmd, capture_output=True, text=True, shell=True)\n",
    "\n",
    "    # Parse the JSON output\n",
    "    metadata = json.loads(result.stdout)\n",
    "    pix_fmt = metadata['streams'][0]['pix_fmt']\n",
    "\n",
    "    return width, height, fps, pix_fmt"
   ]
  },
  {
   "cell_type": "code",
   "execution_count": 70,
   "metadata": {},
   "outputs": [],
   "source": [
    "def createMetadataCsv(directory):\n",
    "    \n",
    "    # Create the pandas DataFrame\n",
    "    df = pd.DataFrame()\n",
    "    \n",
    "    filenames = []\n",
    "    width = []\n",
    "    height = []\n",
    "    fps = []\n",
    "    pixel_format = []\n",
    "\n",
    "    # iterate over files in the directory\n",
    "    \n",
    "    for filename in os.listdir(directory):\n",
    "        f = os.path.join(directory, filename)\n",
    "        # checking if it is a file\n",
    "        if os.path.isfile(f):\n",
    "            if '.mp4' in f:\n",
    "                name = os.path.basename(f)\n",
    "                name = os.path.splitext(name)[0]\n",
    "\n",
    "                filenames.append(name)\n",
    "              \n",
    "                properties = get_video_properties(f)\n",
    "                width.append(properties[0])\n",
    "                height.append(properties[1])\n",
    "                fps.append(properties[2])\n",
    "                pixel_format.append(properties[3])\n",
    "\n",
    "    df = df.assign(Name=filenames,\n",
    "                   width=width,\n",
    "                   height=height,                 \n",
    "                   fps=fps,\n",
    "                   pixel_format=pixel_format)\n",
    "    \n",
    "    #save file\n",
    "    # Specify the file path and name for the CSV file\n",
    "    csv_file_path = f\"{directory}/metadata.csv\"\n",
    "\n",
    "    # Save the DataFrame to a CSV file\n",
    "    df.to_csv(csv_file_path, index=False)\n",
    "    \n",
    "    return df\n",
    "\n"
   ]
  },
  {
   "cell_type": "code",
   "execution_count": 71,
   "metadata": {},
   "outputs": [
    {
     "data": {
      "text/html": [
       "<div>\n",
       "<style scoped>\n",
       "    .dataframe tbody tr th:only-of-type {\n",
       "        vertical-align: middle;\n",
       "    }\n",
       "\n",
       "    .dataframe tbody tr th {\n",
       "        vertical-align: top;\n",
       "    }\n",
       "\n",
       "    .dataframe thead th {\n",
       "        text-align: right;\n",
       "    }\n",
       "</style>\n",
       "<table border=\"1\" class=\"dataframe\">\n",
       "  <thead>\n",
       "    <tr style=\"text-align: right;\">\n",
       "      <th></th>\n",
       "      <th>Name</th>\n",
       "      <th>width</th>\n",
       "      <th>height</th>\n",
       "      <th>fps</th>\n",
       "      <th>pixel_format</th>\n",
       "    </tr>\n",
       "  </thead>\n",
       "  <tbody>\n",
       "    <tr>\n",
       "      <th>0</th>\n",
       "      <td>factory_1080p30-Scene-017</td>\n",
       "      <td>1920</td>\n",
       "      <td>1080</td>\n",
       "      <td>30.0</td>\n",
       "      <td>yuv420p</td>\n",
       "    </tr>\n",
       "  </tbody>\n",
       "</table>\n",
       "</div>"
      ],
      "text/plain": [
       "                        Name  width  height   fps pixel_format\n",
       "0  factory_1080p30-Scene-017   1920    1080  30.0      yuv420p"
      ]
     },
     "execution_count": 71,
     "metadata": {},
     "output_type": "execute_result"
    }
   ],
   "source": [
    "#test\n",
    "createMetadataCsv(\"/Users/anastasiya/Documents/MASTER/SOSE23/Deep_Encode/last\")"
   ]
  },
  {
   "cell_type": "code",
   "execution_count": null,
   "metadata": {},
   "outputs": [],
   "source": []
  }
 ],
 "metadata": {
  "kernelspec": {
   "display_name": "Python 3",
   "language": "python",
   "name": "python3"
  },
  "language_info": {
   "codemirror_mode": {
    "name": "ipython",
    "version": 3
   },
   "file_extension": ".py",
   "mimetype": "text/x-python",
   "name": "python",
   "nbconvert_exporter": "python",
   "pygments_lexer": "ipython3",
   "version": "3.7.9"
  }
 },
 "nbformat": 4,
 "nbformat_minor": 2
}
