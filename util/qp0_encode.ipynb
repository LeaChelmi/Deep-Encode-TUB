{
 "cells": [
  {
   "attachments": {},
   "cell_type": "markdown",
   "metadata": {},
   "source": [
    "<h3>QP 0 script</h3>\n",
    "\n",
    "generate \"-qp 0\" encodes for already split scenes in \"orig_scenes\" directory"
   ]
  },
  {
   "cell_type": "code",
   "execution_count": 26,
   "metadata": {},
   "outputs": [],
   "source": [
    "import os\n",
    "import subprocess"
   ]
  },
  {
   "cell_type": "code",
   "execution_count": 27,
   "metadata": {},
   "outputs": [],
   "source": [
    "### LOCATIONS ###\n",
    "\n",
    "input_vid_name='life_1080p30'\n",
    "\n",
    "abs_path='/Volumes/T7/deep_encode_dataset/DATASET_DEEP_ENCODE_2/final_data_set'\n",
    "\n",
    "# path to input video\n",
    "input_vid_loc=f'{abs_path}/{input_vid_name}/{input_vid_name}.y4m'\n",
    "\n",
    "# path to split uncompressed scenes\n",
    "orig_scenes_loc=f'{abs_path}/{input_vid_name}/orig_scenes'\n",
    "\n",
    "# path to encodes (will be deleted after use)\n",
    "encode_loc=f'{abs_path}/{input_vid_name}/qp0_encodes'\n",
    "\n",
    "\n",
    "### INPUT VIDEO META DATA ###\n",
    "\n",
    "input_vid_res = '1920x1080'\n",
    "#input_vid_res = '1280x720'\n",
    "\n",
    "#input_vid_fps = '60'\n",
    "#input_vid_fps = '50'\n",
    "input_vid_fps = '30'\n",
    "#input_vid_fps = '25'\n",
    "#input_vid_fps = '24'\n",
    "\n",
    "input_vid_pix_fmt = 'yuv420p'\n",
    "#input_vid_pix_fmt = 'yuv422p'"
   ]
  },
  {
   "cell_type": "code",
   "execution_count": 28,
   "metadata": {},
   "outputs": [],
   "source": [
    "def qp0_encode(directory):\n",
    "\n",
    "    #create dir for encodes\n",
    "    if not os.path.isdir(encode_loc):\n",
    "        os.makedirs(encode_loc)\n",
    "\n",
    "    #iterate over scenes\n",
    "    for filename in os.listdir(directory):\n",
    "        \n",
    "        #new dir per scene\n",
    "        scene_name=os.path.splitext(filename)[0]\n",
    "        scene_encode_loc = os.path.join(encode_loc, scene_name)\n",
    "        os.makedirs(scene_encode_loc)\n",
    "\n",
    "        #do qp0 encode\n",
    "        qp0_filename = f'{scene_encode_loc}/qp0_{input_vid_name}.mp4'\n",
    "        qp0_command = f'ffmpeg -v error -f rawvideo -vcodec rawvideo -s {input_vid_res} -r {input_vid_fps} -pix_fmt {input_vid_pix_fmt} -i {orig_scenes_loc}/{filename} -c:v libx264 -preset ultrafast -qp 0 \"{qp0_filename}\"'\n",
    "        qp0_result = subprocess.run(qp0_command, capture_output=True, text=True, shell=True)\n",
    "        #print('QP0 RESULT: ', qp0_result)\n",
    "\n",
    "qp0_encode(orig_scenes_loc)"
   ]
  }
 ],
 "metadata": {
  "kernelspec": {
   "display_name": "PyCharm (scripts)",
   "language": "python",
   "name": "pycharm-b14a2222"
  },
  "language_info": {
   "codemirror_mode": {
    "name": "ipython",
    "version": 3
   },
   "file_extension": ".py",
   "mimetype": "text/x-python",
   "name": "python",
   "nbconvert_exporter": "python",
   "pygments_lexer": "ipython3",
   "version": "3.7.3"
  },
  "orig_nbformat": 4
 },
 "nbformat": 4,
 "nbformat_minor": 2
}
